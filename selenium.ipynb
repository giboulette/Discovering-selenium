{
 "cells": [
  {
   "cell_type": "markdown",
   "id": "c2fbf8d0-5155-42d0-9ac7-d65da611fedb",
   "metadata": {
    "tags": []
   },
   "source": [
    "# Before running\n",
    "- install selenium\n",
    "- download ChromeDriver (must be the same version as your Chrome navigator), the path to the latter is needed: https://chromedriver.storage.googleapis.com/index.html?path=103.0.5060.134/"
   ]
  },
  {
   "cell_type": "markdown",
   "id": "4211c6ae-a01e-458e-8441-3bb3e86245dc",
   "metadata": {},
   "source": [
    "## Setting up the driver"
   ]
  },
  {
   "cell_type": "code",
   "execution_count": 1,
   "id": "097eb0c8-5f77-47f4-920f-4e009110831a",
   "metadata": {},
   "outputs": [],
   "source": [
    "from selenium import webdriver\n",
    "from selenium.webdriver.chrome.service import Service\n",
    "from selenium.webdriver.common.by import By\n",
    "from selenium.webdriver.common.keys import Keys\n",
    "from selenium.webdriver.common.action_chains import ActionChains\n",
    "from selenium.webdriver.support.ui import WebDriverWait\n",
    "from selenium.webdriver.support import expected_conditions as EC\n",
    "chromedriver_service = Service(\"C:\\Program Files (x86)\\chromedriver.exe\")\n",
    "driver = webdriver.Chrome(service=chromedriver_service)"
   ]
  },
  {
   "cell_type": "markdown",
   "id": "dcd7756b-53e3-46e4-913b-d2cee4092891",
   "metadata": {},
   "source": [
    "## Opening the website and navigating"
   ]
  },
  {
   "cell_type": "code",
   "execution_count": 2,
   "id": "ed1a65f9-598b-4677-bd9f-6e992cf0a082",
   "metadata": {},
   "outputs": [],
   "source": [
    "url = \"https://onlinepngtools.com/create-transparent-png\"\n",
    "url = \"https://duckduckgo.com/\"\n",
    "driver.get(url)\n",
    "\n",
    "search_bar = driver.find_element(By.ID,\"search_form_input_homepage\")\n",
    "logo = driver.find_element(By.CLASS_NAME,\"logo_homepage\")\n",
    "search_bar.send_keys(\"Test\")\n",
    "search_bar.send_keys(Keys.RETURN)\n",
    "\n",
    "first_result = WebDriverWait(driver,5).until(\n",
    "    EC.presence_of_element_located((By.ID,\"r1-0\"))\n",
    ")\n",
    "\n",
    "link = first_result.find_element(By.CLASS_NAME,\"eVNpHGjtxRBq_gLOfGDr\")\n",
    "\n",
    "action = ActionChains(driver)\n",
    "action.click(link)\n",
    "action.perform()"
   ]
  },
  {
   "cell_type": "markdown",
   "id": "b3acdd59-8c71-4e8c-b103-17af13b2a731",
   "metadata": {},
   "source": [
    "## Help & closing the driver"
   ]
  },
  {
   "cell_type": "code",
   "execution_count": 3,
   "id": "9410cc2f-db1d-43b9-8175-66237ef7feda",
   "metadata": {},
   "outputs": [
    {
     "name": "stdout",
     "output_type": "stream",
     "text": [
      "Help on class By in module selenium.webdriver.common.by:\n",
      "\n",
      "class By(builtins.object)\n",
      " |  Set of supported locator strategies.\n",
      " |  \n",
      " |  Data descriptors defined here:\n",
      " |  \n",
      " |  __dict__\n",
      " |      dictionary for instance variables (if defined)\n",
      " |  \n",
      " |  __weakref__\n",
      " |      list of weak references to the object (if defined)\n",
      " |  \n",
      " |  ----------------------------------------------------------------------\n",
      " |  Data and other attributes defined here:\n",
      " |  \n",
      " |  CLASS_NAME = 'class name'\n",
      " |  \n",
      " |  CSS_SELECTOR = 'css selector'\n",
      " |  \n",
      " |  ID = 'id'\n",
      " |  \n",
      " |  LINK_TEXT = 'link text'\n",
      " |  \n",
      " |  NAME = 'name'\n",
      " |  \n",
      " |  PARTIAL_LINK_TEXT = 'partial link text'\n",
      " |  \n",
      " |  TAG_NAME = 'tag name'\n",
      " |  \n",
      " |  XPATH = 'xpath'\n",
      "\n"
     ]
    }
   ],
   "source": [
    "help(By)"
   ]
  },
  {
   "cell_type": "code",
   "execution_count": 4,
   "id": "9e05d479-ee10-4fda-9d6d-ec34413b9d0b",
   "metadata": {},
   "outputs": [],
   "source": [
    "#driver.quit()"
   ]
  }
 ],
 "metadata": {
  "kernelspec": {
   "display_name": "Python 3 (ipykernel)",
   "language": "python",
   "name": "python3"
  },
  "language_info": {
   "codemirror_mode": {
    "name": "ipython",
    "version": 3
   },
   "file_extension": ".py",
   "mimetype": "text/x-python",
   "name": "python",
   "nbconvert_exporter": "python",
   "pygments_lexer": "ipython3",
   "version": "3.10.5"
  }
 },
 "nbformat": 4,
 "nbformat_minor": 5
}
